{
 "cells": [
  {
   "cell_type": "code",
   "execution_count": 1,
   "metadata": {},
   "outputs": [],
   "source": [
    "import cv2\n",
    "import os\n",
    "import glob"
   ]
  },
  {
   "cell_type": "code",
   "execution_count": 4,
   "metadata": {},
   "outputs": [],
   "source": [
    "#unifying covid images to 512 by 512 pixels\n",
    "try:\n",
    "    os.mkdir('covid_dataset/covid_resized')\n",
    "except OSError:\n",
    "    pass\n",
    "\n",
    "img_dir = \"covid_dataset/covid/\"\n",
    "data_path = os.path.join(img_dir,'*.png')\n",
    "files = glob.glob(data_path)\n",
    "w = 512\n",
    "h = 512\n",
    "i = 1\n",
    "for f1 in files:\n",
    "    img = cv2.imread(f1)\n",
    "    resized = cv2.resize(img, (w, h), interpolation=cv2.INTER_LINEAR)\n",
    "    cv2.imwrite('covid_dataset/covid_resized/positive'+str(i)+'.png',resized)\n",
    "    i +=1\n"
   ]
  },
  {
   "cell_type": "code",
   "execution_count": 1,
   "metadata": {},
   "outputs": [
    {
     "name": "stderr",
     "output_type": "stream",
     "text": [
      "Using TensorFlow backend.\n"
     ]
    }
   ],
   "source": [
    "import tensorflow as tf\n",
    "import matplotlib.pyplot as plt\n",
    "from keras.models import Sequential\n",
    "from keras.layers import Dense,Flatten,Conv2D,MaxPooling2D,Dropout\n",
    "from keras.preprocessing.image import ImageDataGenerator"
   ]
  },
  {
   "cell_type": "code",
   "execution_count": 3,
   "metadata": {},
   "outputs": [],
   "source": [
    "import os\n",
    "try:\n",
    "    os.mkdir('covid_dataset/training')\n",
    "    os.mkdir('covid_dataset/testing')\n",
    "    os.mkdir('covid_dataset/training/positive')\n",
    "    os.mkdir('covid_dataset/training/negative')\n",
    "    os.mkdir('covid_dataset/testing/positive')\n",
    "    os.mkdir('covid_dataset/testing/negative')\n",
    "except OSError:\n",
    "    pass"
   ]
  },
  {
   "cell_type": "code",
   "execution_count": 4,
   "metadata": {},
   "outputs": [],
   "source": [
    "#splitting data into training and testing\n",
    "import random\n",
    "from shutil import copyfile\n",
    "\n",
    "def split_data(SOURCE, TRAINING, TESTING, SPLIT_SIZE):\n",
    "    files = []\n",
    "    for filename in os.listdir(SOURCE):\n",
    "        file = SOURCE + filename\n",
    "        if os.path.getsize(file) > 0:\n",
    "            files.append(filename)\n",
    "        else:\n",
    "            print(filename + \" is zero length, so ignoring.\")\n",
    "\n",
    "    training_length = int(len(files) * SPLIT_SIZE)\n",
    "    testing_length = int(len(files) - training_length)\n",
    "    shuffled_set = random.sample(files, len(files))\n",
    "    training_set = shuffled_set[0:training_length]\n",
    "    testing_set = shuffled_set[:testing_length]\n",
    "\n",
    "    for filename in training_set:\n",
    "        this_file = SOURCE + filename\n",
    "        destination = TRAINING + filename\n",
    "        copyfile(this_file, destination)\n",
    "\n",
    "    for filename in testing_set:\n",
    "        this_file = SOURCE + filename\n",
    "        destination = TESTING + filename\n",
    "        copyfile(this_file, destination)"
   ]
  },
  {
   "cell_type": "code",
   "execution_count": 5,
   "metadata": {},
   "outputs": [],
   "source": [
    "positive_DIR = 'covid_dataset/covid_resized/'\n",
    "negative_DIR = 'covid_dataset/noncovid/'\n",
    "positive_training = 'covid_dataset/training/positive/' \n",
    "negative_training = 'covid_dataset/training/negative/'\n",
    "positive_testing = 'covid_dataset/testing/positive/'\n",
    "negative_testing = 'covid_dataset/testing/negative/'\n",
    "split_size = .8"
   ]
  },
  {
   "cell_type": "code",
   "execution_count": 6,
   "metadata": {},
   "outputs": [],
   "source": [
    "split_data(positive_DIR, positive_training, positive_testing, split_size)\n",
    "split_data(negative_DIR, negative_training, negative_testing, split_size)"
   ]
  },
  {
   "cell_type": "code",
   "execution_count": 7,
   "metadata": {},
   "outputs": [
    {
     "name": "stdout",
     "output_type": "stream",
     "text": [
      "800\n",
      "200\n"
     ]
    }
   ],
   "source": [
    "print(len(os.listdir('covid_dataset/training/negative/')))\n",
    "print(len(os.listdir('covid_dataset/testing/negative/')))"
   ]
  },
  {
   "cell_type": "code",
   "execution_count": 8,
   "metadata": {},
   "outputs": [],
   "source": [
    "#building the model\n",
    "model = Sequential()\n",
    "\n",
    "model.add(Conv2D(16, kernel_size=(3, 3), activation='relu', input_shape=(512,512,3)))\n",
    "model.add(MaxPooling2D(pool_size=(2, 2)))\n",
    "model.add(Conv2D(32, kernel_size=(3, 3), activation='relu'))\n",
    "model.add(MaxPooling2D(pool_size=(2, 2)))\n",
    "model.add(Dropout(0.25))\n",
    "model.add(Conv2D(64, kernel_size=(3, 3), activation='relu'))\n",
    "model.add(MaxPooling2D(pool_size=(2, 2)))\n",
    "model.add(Dropout(0.25))\n",
    "\n",
    "model.add(Flatten())\n",
    "model.add(Dense(512, activation='relu'))\n",
    "model.add(Dense(1024, activation='relu'))\n",
    "model.add(Dense(2, activation='softmax'))\n",
    "\n",
    "model.compile(loss='categorical_crossentropy',optimizer='adam',metrics=['accuracy'])"
   ]
  },
  {
   "cell_type": "code",
   "execution_count": 9,
   "metadata": {},
   "outputs": [
    {
     "name": "stdout",
     "output_type": "stream",
     "text": [
      "Found 1011 images belonging to 2 classes.\n",
      "Found 253 images belonging to 2 classes.\n"
     ]
    }
   ],
   "source": [
    "training_DIR = 'covid_dataset/training/'\n",
    "testing_DIR = 'covid_dataset/testing/'\n",
    "\n",
    "train_datagen = ImageDataGenerator(rescale=1./255,\n",
    "      rotation_range=30,\n",
    "      width_shift_range=0.2,\n",
    "      height_shift_range=0.2,\n",
    "      shear_range=0.2,\n",
    "      zoom_range=0.2,\n",
    "      fill_mode='nearest')\n",
    "train_generator = train_datagen.flow_from_directory(training_DIR,\n",
    "                                                    target_size=(512,512),\n",
    "                                                    batch_size=32,\n",
    "\n",
    "                                                    class_mode='categorical')\n",
    "\n",
    "\n",
    "testing_datagen = ImageDataGenerator(rescale=1./255,\n",
    "      rotation_range=30,\n",
    "      width_shift_range=0.2,\n",
    "      height_shift_range=0.2,\n",
    "      shear_range=0.2,\n",
    "      zoom_range=0.2,\n",
    "      fill_mode='nearest')\n",
    "testing_generator = testing_datagen.flow_from_directory(testing_DIR,\n",
    "                                                              target_size=(512,512),\n",
    "                                                              batch_size=32,\n",
    "                                                                \n",
    "                                                              class_mode='categorical')"
   ]
  },
  {
   "cell_type": "code",
   "execution_count": 10,
   "metadata": {},
   "outputs": [
    {
     "name": "stdout",
     "output_type": "stream",
     "text": [
      "Epoch 1/10\n",
      "32/32 [==============================] - 277s 9s/step - loss: 0.8187 - accuracy: 0.7676 - val_loss: 0.3340 - val_accuracy: 0.9328\n",
      "Epoch 2/10\n",
      "32/32 [==============================] - 280s 9s/step - loss: 0.1680 - accuracy: 0.9565 - val_loss: 0.2703 - val_accuracy: 0.9407\n",
      "Epoch 3/10\n",
      "32/32 [==============================] - 242s 8s/step - loss: 0.0984 - accuracy: 0.9723 - val_loss: 0.3036 - val_accuracy: 0.9249\n",
      "Epoch 4/10\n",
      "32/32 [==============================] - 245s 8s/step - loss: 0.0914 - accuracy: 0.9753 - val_loss: 0.2109 - val_accuracy: 0.9012\n",
      "Epoch 5/10\n",
      "32/32 [==============================] - 241s 8s/step - loss: 0.0577 - accuracy: 0.9852 - val_loss: 0.1648 - val_accuracy: 0.9328\n",
      "Epoch 6/10\n",
      "32/32 [==============================] - 236s 7s/step - loss: 0.0317 - accuracy: 0.9921 - val_loss: 0.0215 - val_accuracy: 0.9881\n",
      "Epoch 7/10\n",
      "32/32 [==============================] - 247s 8s/step - loss: 0.0656 - accuracy: 0.9832 - val_loss: 0.1497 - val_accuracy: 0.9051\n",
      "Epoch 8/10\n",
      "32/32 [==============================] - 239s 7s/step - loss: 0.0485 - accuracy: 0.9822 - val_loss: 0.0580 - val_accuracy: 0.9407\n",
      "Epoch 9/10\n",
      "32/32 [==============================] - 243s 8s/step - loss: 0.0308 - accuracy: 0.9881 - val_loss: 0.1175 - val_accuracy: 0.9763\n",
      "Epoch 10/10\n",
      "32/32 [==============================] - 238s 7s/step - loss: 0.0507 - accuracy: 0.9802 - val_loss: 0.1552 - val_accuracy: 0.9644\n"
     ]
    }
   ],
   "source": [
    "history = model.fit_generator(train_generator,\n",
    "                              epochs=10,\n",
    "                              verbose=1,\n",
    "                              validation_data=testing_generator)"
   ]
  },
  {
   "cell_type": "code",
   "execution_count": 11,
   "metadata": {},
   "outputs": [
    {
     "data": {
      "text/plain": [
       "<Figure size 432x288 with 0 Axes>"
      ]
     },
     "execution_count": 11,
     "metadata": {},
     "output_type": "execute_result"
    },
    {
     "data": {
      "image/png": "[encoded data removed]",
      "text/plain": [
       "<Figure size 432x288 with 1 Axes>"
      ]
     },
     "metadata": {
      "needs_background": "light"
     },
     "output_type": "display_data"
    },
    {
     "data": {
      "image/png": "[encoded data removed]",
      "text/plain": [
       "<Figure size 432x288 with 1 Axes>"
      ]
     },
     "metadata": {
      "needs_background": "light"
     },
     "output_type": "display_data"
    },
    {
     "data": {
      "text/plain": [
       "<Figure size 432x288 with 0 Axes>"
      ]
     },
     "metadata": {},
     "output_type": "display_data"
    }
   ],
   "source": [
    "%matplotlib inline\n",
    "import matplotlib.pyplot as plt\n",
    "\n",
    "epochs=range(len('acc')) # number of epochs\n",
    "\n",
    "#------------------------------------------------\n",
    "# Plot training and validation accuracy per epoch\n",
    "#------------------------------------------------\n",
    "\n",
    "plt.xlabel('epochs')\n",
    "plt.ylabel('accuracy')\n",
    "plt.plot(history.history['accuracy'], label='acc')\n",
    "plt.plot(history.history['val_accuracy'], label='val_acc')\n",
    "plt.title('Training and validation accuracy')\n",
    "plt.legend(loc='upper left')\n",
    "plt.figure()\n",
    "\n",
    "#------------------------------------------------\n",
    "# Plot training and validation loss per epoch\n",
    "#------------------------------------------------\n",
    "\n",
    "plt.xlabel('epochs')\n",
    "plt.ylabel('loss')\n",
    "plt.plot(history.history['loss'], label='loss')\n",
    "plt.plot(history.history['val_loss'], label='val_loss')\n",
    "plt.title('training and testing loss')\n",
    "plt.legend(loc='upper left')\n",
    "plt.figure()"
   ]
  },
  {
   "cell_type": "code",
   "execution_count": null,
   "metadata": {},
   "outputs": [],
   "source": []
  }
 ],
 "metadata": {
  "kernelspec": {
   "display_name": "Python [conda env:myEnv] *",
   "language": "python",
   "name": "conda-env-myEnv-py"
  },
  "language_info": {
   "codemirror_mode": {
    "name": "ipython",
    "version": 3
   },
   "file_extension": ".py",
   "mimetype": "text/x-python",
   "name": "python",
   "nbconvert_exporter": "python",
   "pygments_lexer": "ipython3",
   "version": "3.6.10"
  }
 },
 "nbformat": 4,
 "nbformat_minor": 4
}
